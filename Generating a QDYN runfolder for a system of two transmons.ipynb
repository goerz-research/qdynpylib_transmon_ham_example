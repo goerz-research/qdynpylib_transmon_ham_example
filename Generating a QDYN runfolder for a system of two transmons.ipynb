{
 "cells": [
  {
   "cell_type": "markdown",
   "metadata": {},
   "source": [
    "# Generating a QDYN runfolder for a system of two transmons"
   ]
  },
  {
   "cell_type": "markdown",
   "metadata": {},
   "source": [
    "We will generate a runfolder for a Hamiltonian corresponding to Eq. (1) in [arxiv:1606.08825](https://arxiv.org/abs/1606.08825v3), using the `qdynpylib` library:"
   ]
  },
  {
   "cell_type": "code",
   "execution_count": 1,
   "metadata": {
    "collapsed": true
   },
   "outputs": [],
   "source": [
    "import QDYN"
   ]
  },
  {
   "cell_type": "markdown",
   "metadata": {},
   "source": [
    "We also require the the latest development branch of [QNET](https://github.com/mabuchilab/QNET) and a recent version of [QuTiP](http://qutip.org) to be installed."
   ]
  },
  {
   "cell_type": "markdown",
   "metadata": {},
   "source": [
    "The parameters for the model are as follows:"
   ]
  },
  {
   "cell_type": "code",
   "execution_count": 2,
   "metadata": {
    "collapsed": true
   },
   "outputs": [],
   "source": [
    "w1     = 6000.0 # MHz\n",
    "w2     = 5900.0 # MHz\n",
    "wc     = 6200.0 # MHz\n",
    "wd     = 5932.5 # MHz\n",
    "alpha1 = -290.0 # MHz\n",
    "alpha2 = -310.0 # MHz\n",
    "g      =   70.0 # MHz\n",
    "n_qubit = 5\n",
    "n_cavity = 6\n",
    "kappa = 0.0\n",
    "gamma = 0.0"
   ]
  },
  {
   "cell_type": "markdown",
   "metadata": {},
   "source": [
    "Note that factors $2 \\pi$ in the energies are implicit (QDYN will handle this). In principle, our model allows for dissipation, but by setting the qubit and cavity decay rates $\\kappa$ and $\\gamma$ to zero, we consider the non-dissipative case."
   ]
  },
  {
   "cell_type": "markdown",
   "metadata": {},
   "source": [
    "The above parameters are in a rotating frame with $\\omega_d$ given by `wd`. In order to generate data for a Hamiltonian in the Lab frame, we could simply set `wd` to zero."
   ]
  },
  {
   "cell_type": "markdown",
   "metadata": {},
   "source": [
    "We will propagate the system for a fixed duration $T$"
   ]
  },
  {
   "cell_type": "code",
   "execution_count": 3,
   "metadata": {
    "collapsed": true
   },
   "outputs": [],
   "source": [
    "T = 50 # ns"
   ]
  },
  {
   "cell_type": "markdown",
   "metadata": {},
   "source": [
    "On a time grid with 2000 points"
   ]
  },
  {
   "cell_type": "code",
   "execution_count": 4,
   "metadata": {
    "collapsed": false
   },
   "outputs": [],
   "source": [
    "tgrid = QDYN.pulse.pulse_tgrid(T, 2000)"
   ]
  },
  {
   "cell_type": "markdown",
   "metadata": {},
   "source": [
    "The pulse will be a simple Blackman shape:"
   ]
  },
  {
   "cell_type": "code",
   "execution_count": 5,
   "metadata": {
    "collapsed": false
   },
   "outputs": [],
   "source": [
    "pulse = QDYN.pulse.Pulse(\n",
    "    tgrid, amplitude=(300 * QDYN.pulse.blackman(tgrid, 0, T)),\n",
    "    time_unit='ns', ampl_unit='MHz')"
   ]
  },
  {
   "cell_type": "code",
   "execution_count": 6,
   "metadata": {
    "collapsed": false
   },
   "outputs": [
    {
     "data": {
      "image/png": "[encoded data removed]",
      "text/plain": [
       "<matplotlib.figure.Figure at 0x10cf05f98>"
      ]
     },
     "metadata": {},
     "output_type": "display_data"
    }
   ],
   "source": [
    "pulse.show()"
   ]
  },
  {
   "cell_type": "markdown",
   "metadata": {},
   "source": [
    "The full numerical model will be constructed with some helper routines defined in the [model](model.py) module"
   ]
  },
  {
   "cell_type": "code",
   "execution_count": 7,
   "metadata": {
    "collapsed": true
   },
   "outputs": [],
   "source": [
    "from model import transmon_model"
   ]
  },
  {
   "cell_type": "markdown",
   "metadata": {},
   "source": [
    "We decide where we want to cut off the Hilbert space for the transmon qubits, respectively the shared transmission line resonator (\"cavity\")"
   ]
  },
  {
   "cell_type": "code",
   "execution_count": 8,
   "metadata": {
    "collapsed": true
   },
   "outputs": [],
   "source": [
    "n_qubit = 5\n",
    "n_cavity = 6"
   ]
  },
  {
   "cell_type": "code",
   "execution_count": 9,
   "metadata": {
    "collapsed": false
   },
   "outputs": [],
   "source": [
    "model = transmon_model(\n",
    "    n_qubit, n_cavity, w1, w2, wc, wd, alpha1, alpha2, g, gamma, kappa,\n",
    "    lambda_a=1.0, pulse=pulse, dissipation_model='non-Hermitian')"
   ]
  },
  {
   "cell_type": "markdown",
   "metadata": {},
   "source": [
    "The combination of zero decay and `dissipation_model='non-Hermitian'` leads to a propagation of the the standard Schrödinger equation in Hilbert space."
   ]
  },
  {
   "cell_type": "code",
   "execution_count": 10,
   "metadata": {
    "collapsed": false
   },
   "outputs": [],
   "source": [
    "model.write_to_runfolder(\"./rf\")"
   ]
  },
  {
   "cell_type": "markdown",
   "metadata": {},
   "source": [
    "If we're using the RWA (`wd != 0`), we also have to write the RWA vector to the runfolder"
   ]
  },
  {
   "cell_type": "code",
   "execution_count": 11,
   "metadata": {
    "collapsed": true
   },
   "outputs": [],
   "source": [
    "import numpy as np\n",
    "np.savetxt('./rf/rwa_vector.dat',\n",
    "           model.rwa_vector, header='rwa vector [MHz]')"
   ]
  },
  {
   "cell_type": "markdown",
   "metadata": {},
   "source": [
    "This completes the generation of the input data. We can now use the `qdyn_prop_gate` utility to propagate all the two-qubit transmon states:"
   ]
  },
  {
   "cell_type": "code",
   "execution_count": 12,
   "metadata": {
    "collapsed": false
   },
   "outputs": [
    {
     "name": "stdout",
     "output_type": "stream",
     "text": [
      "*** Read config file ./rf/config ***\r\n",
      "*** Done reading config file ***\r\n",
      "*** Initializing system ***\r\n",
      "  *** Initializing grid ***\r\n",
      "  No explicit grid found in config file! Initializing grid as one dimensional 1x1 fake grid\r\n",
      "    Initializing grid as 1D cartesian grid without mapping\r\n",
      "      Number of grid points was set to nr = 1 for dimension dim = 1! Initializing dimension 1 as a 1x1 fake-grid...\r\n",
      "  *** Initializing pulses ***\r\n",
      "    1 pulses in config file\r\n",
      "    Initializing pulse 1\r\n",
      "  *** Initializing dynamical generator ***\r\n",
      "*** Done with initialization ***\r\n",
      "\r\n"
     ]
    }
   ],
   "source": [
    "! qdyn_prop_gate ./rf"
   ]
  },
  {
   "cell_type": "markdown",
   "metadata": {},
   "source": [
    "This results in a file `U_over_t.dat` in the runfolder."
   ]
  },
  {
   "cell_type": "markdown",
   "metadata": {},
   "source": [
    "You could also propagate just a single state, using `qdyn_prop_traj`.\n",
    "Note, however, that currently are no observables defined in model. The propagation would therefore not generate any output. We can fix this by constructing an observable operator (as a QuTiP object, in the same way as the Hamiltonian is constructed in `model.py`), and adding it to the model."
   ]
  },
  {
   "cell_type": "markdown",
   "metadata": {},
   "source": [
    "For example, we might want the expectation value for the excitation of the cavity"
   ]
  },
  {
   "cell_type": "code",
   "execution_count": 13,
   "metadata": {
    "collapsed": false
   },
   "outputs": [],
   "source": [
    "from qnet.algebra import LocalSpace, Destroy\n",
    "from qnet.convert import convert_to_qutip"
   ]
  },
  {
   "cell_type": "code",
   "execution_count": 14,
   "metadata": {
    "collapsed": false
   },
   "outputs": [],
   "source": [
    "HilQ1 = LocalSpace('1', dimension=n_qubit)\n",
    "HilQ2 = LocalSpace('2', dimension=n_qubit)\n",
    "HilCav = LocalSpace('c', dimension=n_cavity)\n",
    "a = Destroy(hs=HilCav); a_dag = a.adjoint()\n",
    "obs = convert_to_qutip(a_dag * a, full_space=HilQ1*HilQ2*HilCav)"
   ]
  },
  {
   "cell_type": "code",
   "execution_count": 15,
   "metadata": {
    "collapsed": false
   },
   "outputs": [
    {
     "data": {
      "text/latex": [
       "Quantum object: dims = [[5, 5, 6], [5, 5, 6]], shape = (150, 150), type = oper, isherm = True\\begin{equation*}\\left(\\begin{array}{*{11}c}0.0 & 0.0 & 0.0 & 0.0 & 0.0 & \\cdots & 0.0 & 0.0 & 0.0 & 0.0 & 0.0\\\\0.0 & 1.0 & 0.0 & 0.0 & 0.0 & \\cdots & 0.0 & 0.0 & 0.0 & 0.0 & 0.0\\\\0.0 & 0.0 & 2.0 & 0.0 & 0.0 & \\cdots & 0.0 & 0.0 & 0.0 & 0.0 & 0.0\\\\0.0 & 0.0 & 0.0 & 3.000 & 0.0 & \\cdots & 0.0 & 0.0 & 0.0 & 0.0 & 0.0\\\\0.0 & 0.0 & 0.0 & 0.0 & 4.0 & \\cdots & 0.0 & 0.0 & 0.0 & 0.0 & 0.0\\\\\\vdots & \\vdots & \\vdots & \\vdots & \\vdots & \\ddots & \\vdots & \\vdots & \\vdots & \\vdots & \\vdots\\\\0.0 & 0.0 & 0.0 & 0.0 & 0.0 & \\cdots & 1.0 & 0.0 & 0.0 & 0.0 & 0.0\\\\0.0 & 0.0 & 0.0 & 0.0 & 0.0 & \\cdots & 0.0 & 2.0 & 0.0 & 0.0 & 0.0\\\\0.0 & 0.0 & 0.0 & 0.0 & 0.0 & \\cdots & 0.0 & 0.0 & 3.000 & 0.0 & 0.0\\\\0.0 & 0.0 & 0.0 & 0.0 & 0.0 & \\cdots & 0.0 & 0.0 & 0.0 & 4.0 & 0.0\\\\0.0 & 0.0 & 0.0 & 0.0 & 0.0 & \\cdots & 0.0 & 0.0 & 0.0 & 0.0 & 5.0\\\\\\end{array}\\right)\\end{equation*}"
      ],
      "text/plain": [
       "Quantum object: dims = [[5, 5, 6], [5, 5, 6]], shape = (150, 150), type = oper, isherm = True\n",
       "Qobj data =\n",
       "[[ 0.  0.  0. ...,  0.  0.  0.]\n",
       " [ 0.  1.  0. ...,  0.  0.  0.]\n",
       " [ 0.  0.  2. ...,  0.  0.  0.]\n",
       " ..., \n",
       " [ 0.  0.  0. ...,  3.  0.  0.]\n",
       " [ 0.  0.  0. ...,  0.  4.  0.]\n",
       " [ 0.  0.  0. ...,  0.  0.  5.]]"
      ]
     },
     "execution_count": 15,
     "metadata": {},
     "output_type": "execute_result"
    }
   ],
   "source": [
    "obs"
   ]
  },
  {
   "cell_type": "code",
   "execution_count": 16,
   "metadata": {
    "collapsed": true
   },
   "outputs": [],
   "source": [
    "model.add_observable(obs, 'cavity_excitation.dat', exp_unit='dimensionless', time_unit='ns', col_label='<n>')"
   ]
  },
  {
   "cell_type": "code",
   "execution_count": 17,
   "metadata": {
    "collapsed": true
   },
   "outputs": [],
   "source": [
    "model.write_to_runfolder(\"./rf2\")\n",
    "np.savetxt('./rf2/rwa_vector.dat',\n",
    "           model.rwa_vector, header='rwa vector [MHz]')"
   ]
  },
  {
   "cell_type": "markdown",
   "metadata": {},
   "source": [
    "This can now be propagated through"
   ]
  },
  {
   "cell_type": "code",
   "execution_count": 18,
   "metadata": {
    "collapsed": false
   },
   "outputs": [
    {
     "name": "stdout",
     "output_type": "stream",
     "text": [
      "*** Read config file ./rf2/config ***\n",
      "*** Done reading config file ***\n",
      "*** Initializing system ***\n",
      "  *** Initializing grid ***\n",
      "  No explicit grid found in config file! Initializing grid as one dimensional 1x1 fake grid\n",
      "    Initializing grid as 1D cartesian grid without mapping\n",
      "      Number of grid points was set to nr = 1 for dimension dim = 1! Initializing dimension 1 as a 1x1 fake-grid...\n",
      "  *** Initializing pulses ***\n",
      "    1 pulses in config file\n",
      "    Initializing pulse 1\n",
      "  *** Initializing dynamical generator ***\n",
      "*** Done with initialization ***\n",
      "\n",
      "Completed traj 1/1 in proc 1/1\n",
      "Writing avg in proc 1/1\n"
     ]
    }
   ],
   "source": [
    "! qdyn_prop_traj --state-label=00 ./rf2"
   ]
  },
  {
   "cell_type": "markdown",
   "metadata": {},
   "source": [
    "This produces `cavity_excitation.dat` in the runfolder."
   ]
  }
 ],
 "metadata": {
  "anaconda-cloud": {},
  "kernelspec": {
   "display_name": "Python 3",
   "language": "python",
   "name": "python3"
  },
  "language_info": {
   "codemirror_mode": {
    "name": "ipython",
    "version": 3
   },
   "file_extension": ".py",
   "mimetype": "text/x-python",
   "name": "python",
   "nbconvert_exporter": "python",
   "pygments_lexer": "ipython3",
   "version": "3.5.2"
  }
 },
 "nbformat": 4,
 "nbformat_minor": 1
}
